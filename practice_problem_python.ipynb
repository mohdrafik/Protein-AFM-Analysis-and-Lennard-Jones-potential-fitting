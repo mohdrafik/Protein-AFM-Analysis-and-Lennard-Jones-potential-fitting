{
 "cells": [
  {
   "cell_type": "code",
   "execution_count": 7,
   "id": "63c55ddc",
   "metadata": {},
   "outputs": [],
   "source": [
    "d = {'a': {'b': {'c': 1, 'd': 2}}, 'e': {'f': 3}}"
   ]
  },
  {
   "cell_type": "code",
   "execution_count": 9,
   "id": "a3826057",
   "metadata": {},
   "outputs": [
    {
     "data": {
      "text/plain": [
       "dict_values([{'b': {'c': 1, 'd': 2}}, {'f': 3}])"
      ]
     },
     "execution_count": 9,
     "metadata": {},
     "output_type": "execute_result"
    }
   ],
   "source": [
    "d.keys()\n",
    "d.values()"
   ]
  },
  {
   "cell_type": "code",
   "execution_count": 17,
   "id": "63835109",
   "metadata": {},
   "outputs": [
    {
     "data": {
      "text/plain": [
       "'item() give the content of the dictionary\\nin the list of tuple pair of key and value.'"
      ]
     },
     "execution_count": 17,
     "metadata": {},
     "output_type": "execute_result"
    }
   ],
   "source": [
    "x = d.items()\n",
    "'''item() give the content of the dictionary\n",
    "in the list of tuple pair of key and value.'''"
   ]
  },
  {
   "cell_type": "code",
   "execution_count": 13,
   "id": "d5c8823e",
   "metadata": {},
   "outputs": [
    {
     "data": {
      "text/plain": [
       "dict_items([('a', {'b': {'c': 1, 'd': 2}}), ('e', {'f': 3})])"
      ]
     },
     "execution_count": 13,
     "metadata": {},
     "output_type": "execute_result"
    }
   ],
   "source": [
    "x"
   ]
  },
  {
   "cell_type": "code",
   "execution_count": 16,
   "id": "dd29a1cd",
   "metadata": {},
   "outputs": [
    {
     "data": {
      "text/plain": [
       "dict_items"
      ]
     },
     "execution_count": 16,
     "metadata": {},
     "output_type": "execute_result"
    }
   ],
   "source": [
    "type(x)\n",
    "''' if isinstance(value, dict)  --> here isinstance object(value) is type of the given class or instance of that class. \n",
    "isinstance(object,classinfo) function in Python is used to check if an object belongs to a specified class\n",
    "or is an instance of a specified class or a tuple of classes.\n",
    "'''"
   ]
  },
  {
   "cell_type": "code",
   "execution_count": 20,
   "id": "20f36bf3",
   "metadata": {},
   "outputs": [
    {
     "name": "stdout",
     "output_type": "stream",
     "text": [
      "TRUE\n"
     ]
    }
   ],
   "source": [
    "'''example 1'''\n",
    "x = 10\n",
    "if isinstance(x,int):\n",
    "    print('TRUE')\n",
    "else:\n",
    "    print(\"False\")         \n",
    "        "
   ]
  },
  {
   "cell_type": "code",
   "execution_count": 21,
   "id": "b482d0e5",
   "metadata": {},
   "outputs": [
    {
     "name": "stdout",
     "output_type": "stream",
     "text": [
      "Return TRue\n"
     ]
    }
   ],
   "source": [
    "'''example 2'''\n",
    "y = [1,23,3]\n",
    "if isinstance(y,(list,tuple)):\n",
    "    print(\"Return TRue\")\n",
    "else:\n",
    "    print(\"return False\")\n",
    "        \n"
   ]
  },
  {
   "cell_type": "code",
   "execution_count": 22,
   "id": "653d4c79",
   "metadata": {},
   "outputs": [
    {
     "name": "stdout",
     "output_type": "stream",
     "text": [
      "I am True\n"
     ]
    }
   ],
   "source": [
    "'''Example 3:'''\n",
    "class Myclass:\n",
    "    pass\n",
    "obj = Myclass()\n",
    "\n",
    "if isinstance(obj,Myclass):\n",
    "    print(\"I am True\")\n",
    "else:\n",
    "    print(\"I am not True\")"
   ]
  },
  {
   "cell_type": "code",
   "execution_count": 26,
   "id": "f018694a",
   "metadata": {},
   "outputs": [
    {
     "name": "stdout",
     "output_type": "stream",
     "text": [
      "6\n"
     ]
    }
   ],
   "source": [
    "# Given a nested dictionary, calculate the sum of all values at the deepest level.\n",
    "data = {'a': {'b': {'c': 1, 'd': 2}}, 'e': {'f': 3}}\n",
    "\n",
    "def sum_deepest_values(d):\n",
    "    total = 0\n",
    "    for key, value in d.items():\n",
    "        if isinstance(value, dict):\n",
    "            total += sum_deepest_values(value)\n",
    "#             sum_deepest_values(value)\n",
    "        else:\n",
    "            total += value\n",
    "    return total\n",
    "\n",
    "result = sum_deepest_values(data)\n",
    "print(result)  # Output: 6 (1 + 2 + 3)\n"
   ]
  },
  {
   "cell_type": "code",
   "execution_count": 36,
   "id": "79efe2e6",
   "metadata": {},
   "outputs": [
    {
     "name": "stdout",
     "output_type": "stream",
     "text": [
      "{'b': 2, 'd': 4}\n"
     ]
    }
   ],
   "source": [
    "'''\n",
    "# problem: Using dictionary comprehension, create a new dictionary with only the key-value pairs where the values are even.\n",
    "'''\n",
    "original_dict = {'a': 1, 'b': 2, 'c': 3, 'd': 4}\n",
    "new_dict = {}\n",
    "for key,val in original_dict.items():\n",
    "    if val%2==0:\n",
    "        new_dict[key] = val \n",
    "        \n",
    "        \n",
    "print(new_dict)        "
   ]
  },
  {
   "cell_type": "code",
   "execution_count": 62,
   "id": "81074cea",
   "metadata": {},
   "outputs": [
    {
     "data": {
      "text/plain": [
       "{'a': 1, 'b': 2, 'c': 3, 'd': 4}"
      ]
     },
     "execution_count": 62,
     "metadata": {},
     "output_type": "execute_result"
    }
   ],
   "source": [
    "original_dict\n"
   ]
  },
  {
   "cell_type": "code",
   "execution_count": 72,
   "id": "acc7ff72",
   "metadata": {},
   "outputs": [
    {
     "name": "stdout",
     "output_type": "stream",
     "text": [
      "{'b': 2, 'd': 4}\n"
     ]
    }
   ],
   "source": [
    "'''\n",
    "# problem: Using dictionary comprehension, create a new dictionary with only the key-value pairs where the values are even.\n",
    "ONE LINE SOLUTION FOR THE PROBLEM\n",
    "'''\n",
    "\n",
    "new_dic2 = {key: val  for key,val in original_dict.items() if val%2==0 }\n",
    "'''\n",
    "new_dic2 = { } # create the new empty dictionary. \n",
    "then key:val , corresponding key and value assigned by the dict item list if val is even.   \n",
    " \n",
    "'''\n",
    "print(new_dic2)"
   ]
  },
  {
   "cell_type": "code",
   "execution_count": 73,
   "id": "8c1d5390",
   "metadata": {},
   "outputs": [
    {
     "name": "stdout",
     "output_type": "stream",
     "text": [
      "{3}\n"
     ]
    }
   ],
   "source": [
    "# Given a dictionary of lists, find the common elements in all lists.\n",
    "data = {'list1': [1, 2, 3], 'list2': [2, 3, 4], 'list3': [3, 4, 5]}\n",
    "\n",
    "common_elements = set(data['list1'])\n",
    "for key, value in data.items():\n",
    "    common_elements.intersection_update(value)\n",
    "\n",
    "print(common_elements)  # Output: {3}"
   ]
  },
  {
   "cell_type": "code",
   "execution_count": 110,
   "id": "b1fe296e",
   "metadata": {},
   "outputs": [
    {
     "data": {
      "text/plain": [
       "{3}"
      ]
     },
     "execution_count": 110,
     "metadata": {},
     "output_type": "execute_result"
    }
   ],
   "source": [
    "\"\"\"\n",
    "\n",
    "sets support x in set, len(set), and for x in set. Being an unordered collection, \n",
    "sets do not record element position or order of insertion. Accordingly, \n",
    "sets do not support indexing, slicing, or other sequence-like behavior.\n",
    "set and its functions\n",
    "set does not have repeated the value.\n",
    "set object is not iterable\n",
    "(set4(i)) --> TypeError: 'set' object is not callable and  not subscriptable, \n",
    "\n",
    "common_elements.intersection_update(value)  \n",
    "# common_elements is a set which update, with the common elements(intersection of both set) in value set and common_elements set. \n",
    "\"\"\"\n",
    "\n",
    "set1 = {1, 2, 3}\n",
    "set2 = {2, 3, 4}\n",
    "set3 = {3, 4, 5}\n",
    "\n",
    "# common_val = set1    #empty set\n",
    "common_val = set1.intersection(set2,set3)  \n",
    "common_val"
   ]
  },
  {
   "cell_type": "code",
   "execution_count": 95,
   "id": "808c27ea",
   "metadata": {},
   "outputs": [
    {
     "data": {
      "text/plain": [
       "{0, 1, 3, 7, 9}"
      ]
     },
     "execution_count": 95,
     "metadata": {},
     "output_type": "execute_result"
    }
   ],
   "source": [
    "set1 = {1, 2, 3,6,7,8,9,0}\n",
    "set2 = {2, 3, 4,1,7,9,0}\n",
    "set3 = {3, 4, 5,7,9,0,1}\n",
    "set4 = {3, 4, 5,7,9,0,1,88,12,1,2,9}\n",
    "\n",
    "common_setval = set1.intersection(*[set2,set3,set4])  # intersection of all the 4 sets.\n",
    "common_setval"
   ]
  },
  {
   "cell_type": "code",
   "execution_count": 107,
   "id": "a4fdf0c1",
   "metadata": {},
   "outputs": [
    {
     "ename": "TypeError",
     "evalue": "'set' object is not subscriptable",
     "output_type": "error",
     "traceback": [
      "\u001b[1;31m---------------------------------------------------------------------------\u001b[0m",
      "\u001b[1;31mTypeError\u001b[0m                                 Traceback (most recent call last)",
      "Cell \u001b[1;32mIn[107], line 2\u001b[0m\n\u001b[0;32m      1\u001b[0m \u001b[38;5;28;01mfor\u001b[39;00m i \u001b[38;5;129;01min\u001b[39;00m \u001b[38;5;28mrange\u001b[39m(\u001b[38;5;28mlen\u001b[39m(set4)):\n\u001b[1;32m----> 2\u001b[0m     \u001b[38;5;28mprint\u001b[39m(\u001b[43mset4\u001b[49m\u001b[43m[\u001b[49m\u001b[43mi\u001b[49m\u001b[43m]\u001b[49m)\n",
      "\u001b[1;31mTypeError\u001b[0m: 'set' object is not subscriptable"
     ]
    }
   ],
   "source": [
    "for i in range(len(set4)):\n",
    "    print(set4[i])"
   ]
  },
  {
   "cell_type": "code",
   "execution_count": 104,
   "id": "a10da860",
   "metadata": {},
   "outputs": [
    {
     "data": {
      "text/plain": [
       "range(0, 10)"
      ]
     },
     "execution_count": 104,
     "metadata": {},
     "output_type": "execute_result"
    }
   ],
   "source": [
    "range(len(set4))"
   ]
  },
  {
   "cell_type": "code",
   "execution_count": 112,
   "id": "ce21a9d1",
   "metadata": {},
   "outputs": [
    {
     "name": "stdout",
     "output_type": "stream",
     "text": [
      "{'a': 1, 'b': 3, 'c': 4, 'd': 5}\n"
     ]
    }
   ],
   "source": [
    "# Merge multiple dictionaries into one dictionary, handling conflicts.\n",
    "dict1 = {'a': 1, 'b': 2}\n",
    "dict2 = {'b': 3, 'c': 4}\n",
    "dict3 = {'d': 5}\n",
    "\n",
    "merged_dict = {**dict1, **dict2, **dict3}\n",
    "print(merged_dict)  # Output: {'a': 1, 'b': 3, 'c': 4, 'd': 5}"
   ]
  },
  {
   "cell_type": "code",
   "execution_count": 113,
   "id": "81c61f3a",
   "metadata": {},
   "outputs": [
    {
     "name": "stdout",
     "output_type": "stream",
     "text": [
      "['Alice', 'Bob', 'Charlie']\n"
     ]
    }
   ],
   "source": [
    "# Given a list of dictionaries, extract values from specific keys and create a new list.\n",
    "data = [{'name': 'Alice', 'age': 25}, {'name': 'Bob', 'age': 30}, {'name': 'Charlie', 'age': 35}]\n",
    "\n",
    "names = [d['name'] for d in data if 'name' in d]\n",
    "print(names)  # Output: ['Alice', 'Bob', 'Charlie']"
   ]
  },
  {
   "cell_type": "code",
   "execution_count": null,
   "id": "a092de7a",
   "metadata": {},
   "outputs": [],
   "source": []
  }
 ],
 "metadata": {
  "kernelspec": {
   "display_name": "Python 3 (ipykernel)",
   "language": "python",
   "name": "python3"
  },
  "language_info": {
   "codemirror_mode": {
    "name": "ipython",
    "version": 3
   },
   "file_extension": ".py",
   "mimetype": "text/x-python",
   "name": "python",
   "nbconvert_exporter": "python",
   "pygments_lexer": "ipython3",
   "version": "3.10.7"
  }
 },
 "nbformat": 4,
 "nbformat_minor": 5
}
