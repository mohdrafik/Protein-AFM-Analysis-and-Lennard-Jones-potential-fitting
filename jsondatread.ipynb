{
 "cells": [
  {
   "cell_type": "code",
   "execution_count": 8,
   "metadata": {},
   "outputs": [],
   "source": [
    "import os\n",
    "def createJsonfile(name,data):\n",
    "    data_json = {\"values\": data}\n",
    "    path = \"E:\\\\unity_learn\\\\unity_project1\\\\read_webRequest_produce3dimage\\\\Assets\\\\data\"\n",
    "    filename = name;\n",
    "    comp_path = os.path.join(path,filename)\n",
    "# Serialize the dictionary to a JSON string and save it to a file\n",
    "    with open(comp_path, 'w') as f:\n",
    "        json.dump(data_json, f)\n",
    "\n",
    "# Deserialize the JSON string from the file back into a dictionary\n",
    "    with open(comp_path, 'r') as f:\n",
    "        loaded_json = json.load(f)\n",
    "        print(\"Data content of the JSON file and its name:\",name, loaded_json)\n"
   ]
  },
  {
   "cell_type": "code",
   "execution_count": 9,
   "metadata": {
    "scrolled": true
   },
   "outputs": [
    {
     "name": "stdout",
     "output_type": "stream",
     "text": [
      "if data is 1d then , data: [[1.0, 2.0, 3.0]]\n",
      "Data content of the JSON file and its name: array1djson.json {'values': [[1.0, 2.0, 3.0]]}\n",
      "Data content of the JSON file and its name: array2djson.json {'values': [[1.0, 2.0, 3.0], [4.0, 5.0, 6.0], [7.0, 8.0, 9.0]]}\n",
      "Data content of the JSON file and its name: array3djson.json {'values': [[[1.0, 2.0, 3.0], [4.0, 5.0, 6.0]], [[7.0, 8.0, 9.0], [10.0, 11.0, 12.0]], [[13.0, 14.0, 15.0], [16.0, 17.0, 18.0]], [[19.0, 20.0, 21.0], [22.0, 23.0, 24.0]], [[25.0, 26.0, 27.0], [28.0, 29.0, 30.0]]]}\n"
     ]
    }
   ],
   "source": [
    "import numpy as np\n",
    "import json\n",
    "import os\n",
    "\n",
    "for i in range(1,4):\n",
    "    \n",
    "    if i==1:\n",
    "        name = f\"array{i}djson.json\"\n",
    "        data = np.arange(1,4).astype(float).reshape((1,-1)).tolist()\n",
    "        print(\"if data is 1d then , data:\",data)\n",
    "        createJsonfile(name,data)\n",
    "        \n",
    "    if i ==2:\n",
    "        name = f\"array{i}djson.json\"\n",
    "        data = np.arange(1, 10).astype(float).reshape((3, 3)).tolist()\n",
    "        createJsonfile(name,data)\n",
    "        \n",
    "    if i==3:\n",
    "        name = f\"array{i}djson.json\"\n",
    "        data = np.arange(1, 31).astype(float).reshape((5, 2, 3)).tolist()\n",
    "        createJsonfile(name,data)\n",
    "        \n",
    "\n",
    "        \n",
    "    \n",
    "\n",
    "\n",
    "# Create a NumPy array and convert it to a Python list\n",
    "\n",
    "\n",
    "\n",
    "\n",
    "\n",
    "# Create a dictionary with the key \"values\" and the list as its value\n"
   ]
  },
  {
   "cell_type": "code",
   "execution_count": 53,
   "metadata": {},
   "outputs": [
    {
     "name": "stdout",
     "output_type": "stream",
     "text": [
      "name0.txt\n",
      "name1.txt\n",
      "name2.txt\n",
      "name3.txt\n"
     ]
    }
   ],
   "source": [
    "for i in range(4):\n",
    "    filename = f\"name{i}.txt\"\n",
    "    print(filename)"
   ]
  },
  {
   "cell_type": "code",
   "execution_count": 49,
   "metadata": {},
   "outputs": [
    {
     "name": "stdout",
     "output_type": "stream",
     "text": [
      "type and list of data : <class 'float'> [[1.0, 2.0, 3.0], [4.0, 5.0, 6.0], [7.0, 8.0, 9.0]]\n",
      "[1.0, 2.0, 3.0]\n",
      "[4.0, 5.0, 6.0]\n",
      "[7.0, 8.0, 9.0]\n",
      "json format:  {\"values\": [[1.0, 2.0, 3.0], [4.0, 5.0, 6.0], [7.0, 8.0, 9.0]]}\n",
      "data content of the json file: {'values': [[1.0, 2.0, 3.0], [4.0, 5.0, 6.0], [7.0, 8.0, 9.0]]}\n",
      "<class 'dict'>\n",
      "values\n"
     ]
    }
   ],
   "source": [
    "import numpy as np\n",
    "import json\n",
    "# data = np.arange(1,3);\n",
    "data = np.arange(1,10);\n",
    "data =  data.astype(float)\n",
    "data = data.reshape((3,3))\n",
    "# print(data)\n",
    "data = data.tolist()\n",
    "print(\"type and list of data :\",type(data[0][0]),data)\n",
    "for val in data:\n",
    "    print(val)\n",
    "\n",
    "datajson = {\"values\":data}  \n",
    "# datajson1 = json.dumps(datajson)\n",
    "print(\"json format: \", datajson1)\n",
    "with open('jsonfile.json','w') as f:\n",
    "    json.dump(datajson,f)\n",
    "#     f.write(datajson1)\n",
    "\n",
    "    \n",
    "with open('jsonfile.json','r') as f1:\n",
    "    datajson = json.load(f1)\n",
    "    print(\"data content of the json file:\",datajson)\n",
    "    print(type(datajson))\n",
    "#     i=0\n",
    "    for val in datajson:\n",
    "        print(val)\n",
    "        \n",
    "        "
   ]
  },
  {
   "cell_type": "code",
   "execution_count": 1,
   "metadata": {},
   "outputs": [
    {
     "name": "stdout",
     "output_type": "stream",
     "text": [
      "[[1 2 3]\n",
      " [4 5 6]\n",
      " [7 8 9]]\n",
      "data list: [1, 2, 3, 4, 5, 6, 7, 8, 9]\n",
      "json data \n",
      " {\"values\": [1, 2, 3, 4, 5, 6, 7, 8, 9]}\n",
      "{\"values\": [1, 2, 3, 4, 5, 6, 7, 8, 9]}\n"
     ]
    }
   ],
   "source": [
    "\"\"\" for testing the json file similar to the  processed yeast file.\"\"\"\n",
    "import json \n",
    "import numpy as np\n",
    "import os\n",
    "# arr1d = np.random.randint(15,5,5)\n",
    "# listarr=np.arange(1,4,dtype=float)\n",
    "# print(\"type of the data : \",np.dtype(listarr[0]))\n",
    "# arr1d = listarr.reshape((3,3,3))\n",
    "#  this is for 2d array json file.\n",
    "listarr=np.arange(1,10)\n",
    "arr1d = listarr.reshape((3,3))\n",
    "print(arr1d)\n",
    "arr1d = listarr\n",
    "# print(arr1d)\n",
    "arr1d = arr1d.tolist()\n",
    "print(\"data list:\",arr1d)\n",
    "arrdata ={\"values\":arr1d}\n",
    "\n",
    "# jsondata = arrdata\n",
    "jsondata = json.dumps(arrdata)  \n",
    "print(\"json data \\n\",jsondata)\n",
    "path = \"E:\\\\unity_learn\\\\unity_project1\\\\read_webRequest_produce3dimage\\\\Assets\\\\data\"\n",
    "filename = \"trial2d.json\"\n",
    "comp_path = os.path.join(path,filename)\n",
    "with open(comp_path,'w') as f1:\n",
    "    # f1.write(jsondata)\n",
    "    json.dump(jsondata,f1)\n",
    "\n",
    "# with open(\"examp1.json\",'w') as file:\n",
    "#     json.dump(arrdata,file)\n",
    "\n",
    "\n",
    "with open(comp_path,'r') as file1:\n",
    "    dataserialization = json.load(file1)\n",
    "    print(dataserialization)\n",
    "    # data = json.load()\n"
   ]
  },
  {
   "cell_type": "code",
   "execution_count": null,
   "metadata": {},
   "outputs": [],
   "source": [
    "# import json\n",
    "with open('fact.json', 'r+') as frd:\n",
    "    print(frd.read())\n",
    "#     filecontent = frd.read()\n",
    "#     jsonload = json.load(frd)\n",
    "#     print(jsonload)"
   ]
  },
  {
   "cell_type": "code",
   "execution_count": null,
   "metadata": {},
   "outputs": [],
   "source": []
  },
  {
   "cell_type": "code",
   "execution_count": null,
   "metadata": {},
   "outputs": [],
   "source": [
    "# print(filecontent)\n",
    "# if we want to dump any object in json format just use --> json.dumps(x)  --> x is any object.\n",
    "# understand and summarize the different technique of reading and writing from/into file,with\n",
    "# different file format csv,excel,text,.dat, and json also."
   ]
  },
  {
   "cell_type": "code",
   "execution_count": null,
   "metadata": {},
   "outputs": [],
   "source": [
    "import json\n",
    "import numpy as np\n",
    "with open('pdata_217071456512135513.json','r') as fpdata:\n",
    "# with open('pdata_617060994055166562.json','r') as fpdata:\n",
    "    fdata = fpdata.read()\n",
    "    # Parse the JSON string into a Python dictionary\n",
    "    data_dict = json.loads(fdata)\n",
    "\n",
    "# Access the \"values\" key and print a slice\n",
    "    print(data_dict[\"values\"][0][1][0:10])\n",
    "    data_row = data_dict[\"values\"][0][1][0:10]\n",
    "    data_row = np.array(data_row)\n",
    "    print(\"\\n size of the data_row:\\n\",data_row.shape,\"\\n length: \",len(data_row))"
   ]
  },
  {
   "cell_type": "code",
   "execution_count": null,
   "metadata": {},
   "outputs": [],
   "source": [
    "import json\n",
    "import numpy as np\n",
    "import matplotlib.pyplot as plt\n",
    "from mpl_toolkits.mplot3d import Axes3D\n",
    "# Load JSON data\n",
    "with open('pdata_217071456512135513.json','r') as fpdata:\n",
    "# with open('pdata_617060994055166562.json','r') as fpdata:\n",
    "    fdata = fpdata.read()\n",
    "    filename = \"justsee\"\n",
    "    data = json.loads(fdata)\n",
    "    data = np.array(data[\"values\"])\n",
    "array_3d = data[0:100,0:100,0:100]\n",
    "print(\"shape of the array is :----------------> \\n\",array_3d.shape)\n",
    "# Find non-zero values\n",
    "nonzero_indices = np.nonzero(array_3d)\n",
    "# Create mesh grid for non-zero values\n",
    "X, Y, Z = np.meshgrid(nonzero_indices[0], nonzero_indices[1], nonzero_indices[2])\n",
    "# Create figure and axis\n",
    "fig = plt.figure()\n",
    "ax = fig.add_subplot(111, projection='3d')\n",
    "# Plot surface for non-zero values\n",
    "ax.plot(X, Y, Z,color='r', marker='.')  # You can also use plot_surface() if you want a surface plot\n",
    "# Set labels\n",
    "ax.set_xlabel('X')\n",
    "ax.set_ylabel('Y')\n",
    "ax.set_zlabel('Z')\n",
    "\n",
    "# Show plot\n",
    "plt.show()\n"
   ]
  },
  {
   "cell_type": "code",
   "execution_count": null,
   "metadata": {},
   "outputs": [],
   "source": [
    "import numpy as np\n",
    "from interactive_plot3dmodule import plot3d_yeastSegmentdata\n",
    "with open('pdata_217071456512135513.json','r') as fpdata:\n",
    "# with open('pdata_617060994055166562.json','r') as fpdata:\n",
    "    fdata = fpdata.read()\n",
    "    filename = \"justsee\"\n",
    "    data = json.loads(fdata)\n",
    "    data = np.array(data[\"values\"])\n",
    "    data = data[0:100,0:100,0:100]\n",
    "    print(\"\\n size of the given data : array_3d :\\n \",data.shape)\n",
    "    plot3d_yeastSegmentdata(data,filename)\n",
    "    # Parse the JSON string into a Python dictionary\n",
    "#     data_dict = json.loads(fdata)\n",
    "\n",
    "# Access the \"values\" key and print a slice\n",
    "#     print(data_dict[2][0:1][0:10])\n",
    "#     data_row = data_dict[0][1][0:10]\n",
    "#     data_row = np.array(data_row)\n",
    "#     print(\"\\n size of the data_row:\\n\",data_row.shape,\"\\n length: \",len(data_row))"
   ]
  },
  {
   "cell_type": "code",
   "execution_count": null,
   "metadata": {},
   "outputs": [],
   "source": [
    "data.shape "
   ]
  },
  {
   "cell_type": "code",
   "execution_count": null,
   "metadata": {},
   "outputs": [],
   "source": [
    "\n",
    "wdata = data[0:20,0:20,0:20]"
   ]
  },
  {
   "cell_type": "code",
   "execution_count": null,
   "metadata": {},
   "outputs": [],
   "source": [
    "data.shape"
   ]
  },
  {
   "cell_type": "code",
   "execution_count": null,
   "metadata": {},
   "outputs": [],
   "source": [
    "import  json\n",
    "with open(\"jsonfile.json\",'w') as fjsn:\n",
    "#     fdata = fjswritableit\n",
    "    json.dump(data,fjsn)\n",
    "    \n",
    "with open(\"jsonfile.json\") as f:\n",
    "    fdata = f.read()\n",
    "    dataread = json.loads(fdata)\n",
    "    print(dataread)\n",
    "    dataread = np.array(dataread)\n",
    "    print(\"size is 20x20x20 : \",dataread.shape)"
   ]
  },
  {
   "cell_type": "code",
   "execution_count": null,
   "metadata": {},
   "outputs": [],
   "source": [
    "import json\n",
    "\n",
    "# Example data to write to the JSON file\n",
    "data_to_write = {\n",
    "    \"name\": \"John\",\n",
    "    \"age\": 30,\n",
    "    \"city\": \"New York\"\n",
    "}\n",
    "\n",
    "# Writing to a JSON file\n",
    "with open('data.json', 'w') as json_file:\n",
    "    json.dump(data_to_write, json_file)\n",
    "\n",
    "# Reading from a JSON file\n",
    "with open('data.json', 'r') as json_file:\n",
    "    data_read = json.load(json_file)\n",
    "\n",
    "print(\"Data read from JSON file:\", data_read)\n"
   ]
  },
  {
   "cell_type": "code",
   "execution_count": null,
   "metadata": {},
   "outputs": [],
   "source": [
    "for i in range(3,7,1):\n",
    "    print(i)\n",
    "    %mkdir \"week\"{i}\n",
    "    \n",
    "    \n",
    "    "
   ]
  },
  {
   "cell_type": "code",
   "execution_count": null,
   "metadata": {},
   "outputs": [],
   "source": []
  }
 ],
 "metadata": {
  "kernelspec": {
   "display_name": "Python 3 (ipykernel)",
   "language": "python",
   "name": "python3"
  },
  "language_info": {
   "codemirror_mode": {
    "name": "ipython",
    "version": 3
   },
   "file_extension": ".py",
   "mimetype": "text/x-python",
   "name": "python",
   "nbconvert_exporter": "python",
   "pygments_lexer": "ipython3",
   "version": "3.10.7"
  }
 },
 "nbformat": 4,
 "nbformat_minor": 2
}
